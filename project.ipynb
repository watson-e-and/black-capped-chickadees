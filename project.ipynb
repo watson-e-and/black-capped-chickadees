{
 "cells": [
  {
   "cell_type": "code",
   "execution_count": null,
   "metadata": {},
   "outputs": [],
   "source": [
    "import pandas as pd\n",
    "import numpy as np\n",
    "import matplotlib.pyplot as plt\n",
    "import pylab\n",
    "import scipy.stats as stats"
   ]
  },
  {
   "cell_type": "code",
   "execution_count": null,
   "metadata": {},
   "outputs": [],
   "source": [
    "# import the data and view it\n",
    "df = pd.read_csv('chart.csv')\n",
    "\n",
    "df"
   ]
  },
  {
   "cell_type": "markdown",
   "metadata": {},
   "source": [
    "## Mean and Std - incomplete data!\n",
    "\n",
    "What to do about "
   ]
  },
  {
   "cell_type": "code",
   "execution_count": null,
   "metadata": {},
   "outputs": [],
   "source": [
    "recruitment_mean = df['Recruitment'].mean(skipna=True)\n",
    "recruitment_std = df['Recruitment'].std(skipna=True)\n",
    "\n",
    "survival_mean = df['Survival Rate'].mean(skipna=True)\n",
    "survival_std = df['Survival Rate'].std(skipna=True)\n",
    "\n",
    "# show the mean and standard deviation of the recruitment and survival rate\n",
    "print(\"Recruitment Mean: \", recruitment_mean)\n",
    "print(\"Recruitment Standard Deviation: \", recruitment_std)\n",
    "print(\"Survival Rate Mean: \", survival_mean)\n",
    "print(\"Survival Rate Standard Deviation: \", survival_std)"
   ]
  },
  {
   "cell_type": "markdown",
   "metadata": {},
   "source": [
    "## Part 3 - Simulation using normal distributions\n",
    "\n",
    "Randomly sample from normal distribution for both recruitment and survival rates for 25 years. "
   ]
  },
  {
   "cell_type": "code",
   "execution_count": null,
   "metadata": {},
   "outputs": [],
   "source": [
    "# parameters for the simulation\n",
    "\n",
    "starting_population = 275\n",
    "num_simulations = 10\n",
    "num_years = 25"
   ]
  },
  {
   "cell_type": "code",
   "execution_count": null,
   "metadata": {},
   "outputs": [],
   "source": [
    "# create a table to store the simulations\n",
    "\n",
    "starting_populations = pd.Series(np.ones(num_simulations) * starting_population, name='Year 0')\n",
    "simulations = pd.DataFrame(starting_populations)\n",
    "\n",
    "# show the table\n",
    "simulations"
   ]
  },
  {
   "cell_type": "code",
   "execution_count": null,
   "metadata": {},
   "outputs": [],
   "source": [
    "# run the simulation\n",
    "\n",
    "# create a random number generator\n",
    "rng = np.random.default_rng(seed=3290751)\n",
    "\n",
    "for i in range(1, num_years + 1):\n",
    "    # calculate the recruitment\n",
    "    recruitment = rng.normal(recruitment_mean, recruitment_std, size=num_simulations)\n",
    "    \n",
    "    # calculate the survival rate\n",
    "    survival = rng.normal(survival_mean, survival_std, size=num_simulations)\n",
    "    \n",
    "    # calculate the new population\n",
    "    new_population = simulations[f\"Year {i - 1}\"] * survival + recruitment\n",
    "    \n",
    "    # add the new population to the table\n",
    "    simulations[f\"Year {i}\"] = new_population\n",
    "\n",
    "# round everything to 1 decimal place\n",
    "simulations = simulations.round(1)\n",
    "# show the table\n",
    "simulations"
   ]
  },
  {
   "cell_type": "code",
   "execution_count": null,
   "metadata": {},
   "outputs": [],
   "source": [
    "# plot the trials (row by row)\n",
    "\n",
    "years_index = [i for i in range(num_years + 1)]\n",
    "for i in range(num_simulations):\n",
    "    if i == 1: # only put in the label once\n",
    "        plt.plot(years_index, simulations.iloc[i, :], color='tab:gray', label='Simulations')\n",
    "    else:\n",
    "        plt.plot(years_index, simulations.iloc[i, :], color='tab:gray')\n",
    "\n",
    "# plot the actual data\n",
    "plt.plot(df['Actual Population'], color='tab:orange', linewidth=3, label='Actual Population')\n",
    "\n",
    "plt.xlabel(\"Year\")\n",
    "plt.ylabel(\"Population\")\n",
    "plt.title(\"Population over Time (Using normal distribution)\")\n",
    "plt.legend()\n",
    "plt.show()\n",
    "plt.close()"
   ]
  },
  {
   "cell_type": "markdown",
   "metadata": {},
   "source": [
    "## Bootstrapping!\n",
    "\n",
    "There's a better way to run the simulations that we learned in Stats Inference?\n",
    "\n",
    "Two approaches \n",
    "- Assume that recruitment and survival rate are _independent_, which means that we can randomly sample from each one separately as a proxy for the distribution of possible recruitment - survival rate pairs.\n",
    "- Assume that recruitment and survival rate are _dependent_, which means that we must randomly sample pairs of data points as a proxy for the actual distribution of possibilities."
   ]
  },
  {
   "cell_type": "markdown",
   "metadata": {},
   "source": [
    "### Bootstrapping - independence assumption\n",
    "Randomly sample from recruitment and survival rates separately."
   ]
  },
  {
   "cell_type": "code",
   "execution_count": null,
   "metadata": {},
   "outputs": [],
   "source": [
    "# create a table to store the simulations\n",
    "\n",
    "starting_populations = pd.Series(np.ones(num_simulations) * starting_population, name='Year 0')\n",
    "bootstrap_sims = pd.DataFrame(starting_populations)\n",
    "\n",
    "# show the table\n",
    "bootstrap_sims"
   ]
  },
  {
   "cell_type": "code",
   "execution_count": null,
   "metadata": {},
   "outputs": [],
   "source": [
    "# run the simulation\n",
    "\n",
    "# create a random number generator\n",
    "rng = np.random.default_rng(seed=29365701)\n",
    "\n",
    "# create version of data without NaNs\n",
    "# TODO decide if we drop entire rows with NaN or just skip the specific NaNs\n",
    "recruitment_for_bootstrap = df['Recruitment'].dropna()\n",
    "survival_for_bootstrap = df['Survival Rate'].dropna()\n",
    "\n",
    "\n",
    "for i in range(1, num_years + 1):\n",
    "    # randomly sample from the recruitment\n",
    "    recruitment = rng.choice(recruitment_for_bootstrap, size=num_simulations, replace=True)\n",
    "    \n",
    "    # randomly sample from the survival rate\n",
    "    survival = rng.choice(survival_for_bootstrap, size=num_simulations, replace=True)\n",
    "    \n",
    "    # calculate the new population\n",
    "    new_population = bootstrap_sims[f\"Year {i - 1}\"] * survival + recruitment\n",
    "    \n",
    "    # add the new population to the table\n",
    "    bootstrap_sims[f\"Year {i}\"] = new_population\n",
    "\n",
    "# round everything to 1 decimal place\n",
    "bootstrap_sims = bootstrap_sims.round(1)\n",
    "# show the table\n",
    "bootstrap_sims"
   ]
  },
  {
   "cell_type": "code",
   "execution_count": null,
   "metadata": {},
   "outputs": [],
   "source": [
    "# plot the trials (row by row)\n",
    "\n",
    "years_index = [i for i in range(num_years + 1)]\n",
    "for i in range(num_simulations):\n",
    "    if i == 1: # only put in the label once\n",
    "        plt.plot(years_index, bootstrap_sims.iloc[i, :], color='tab:gray', label='Simulations')\n",
    "    else:\n",
    "        plt.plot(years_index, bootstrap_sims.iloc[i, :], color='tab:gray')\n",
    "\n",
    "# plot the actual data\n",
    "plt.plot(df['Actual Population'], color='tab:orange', linewidth=3, label='Actual Population')\n",
    "\n",
    "plt.xlabel(\"Year\")\n",
    "plt.ylabel(\"Population\")\n",
    "plt.title(\"Population over Time (Bootstrap method, assume independence)\")\n",
    "plt.legend()\n",
    "plt.show()\n",
    "plt.close()"
   ]
  },
  {
   "cell_type": "markdown",
   "metadata": {},
   "source": [
    "### Bootstrapping - dependence assumption\n",
    "Randomly sample from the pairs of data."
   ]
  },
  {
   "cell_type": "code",
   "execution_count": null,
   "metadata": {},
   "outputs": [],
   "source": [
    "# create a table to store the simulations\n",
    "\n",
    "starting_populations = pd.Series(np.ones(num_simulations) * starting_population, name='Year 0')\n",
    "bootstrap_sims_dep = pd.DataFrame(starting_populations)\n",
    "\n",
    "# show the table\n",
    "bootstrap_sims_dep"
   ]
  },
  {
   "cell_type": "code",
   "execution_count": null,
   "metadata": {},
   "outputs": [],
   "source": [
    "# run the simulation\n",
    "\n",
    "# create a random number generator\n",
    "rng = np.random.default_rng(seed=29365701)\n",
    "\n",
    "# create version of data without NaNs\n",
    "df_for_bootstrap = df.dropna()\n",
    "num_pairs = len(df_for_bootstrap.index)\n",
    "\n",
    "\n",
    "for i in range(1, num_years + 1):\n",
    "    # randomly sample from the recruitment and survival rate simulataneously\n",
    "    pairs = rng.choice(num_pairs, size=num_simulations, replace=True)\n",
    "\n",
    "    # get the recruitment and survival rate from each pair\n",
    "    recruitment = [df_for_bootstrap['Recruitment'].iloc[pair] for pair in pairs]\n",
    "    survival = [df_for_bootstrap['Survival Rate'].iloc[pair] for pair in pairs]\n",
    "\n",
    "    # Convert to pandas series for vectorized operations\n",
    "    recruitment = pd.Series(recruitment)\n",
    "    survival = pd.Series(survival)\n",
    "    \n",
    "    # calculate the new population\n",
    "    new_population = bootstrap_sims_dep[f\"Year {i - 1}\"] * survival + recruitment\n",
    "    \n",
    "    # add the new population to the table\n",
    "    bootstrap_sims_dep[f\"Year {i}\"] = new_population\n",
    "\n",
    "# round everything to 1 decimal place\n",
    "bootstrap_sims_dep = bootstrap_sims_dep.round(1)\n",
    "# show the table\n",
    "bootstrap_sims_dep"
   ]
  },
  {
   "cell_type": "code",
   "execution_count": null,
   "metadata": {},
   "outputs": [],
   "source": [
    "# plot the trials (row by row)\n",
    "\n",
    "years_index = [i for i in range(num_years + 1)]\n",
    "for i in range(num_simulations):\n",
    "    if i == 1: # only put in the label once\n",
    "        plt.plot(years_index, bootstrap_sims_dep.iloc[i, :], color='tab:gray', label='Simulations')\n",
    "    else:\n",
    "        plt.plot(years_index, bootstrap_sims_dep.iloc[i, :], color='tab:gray')\n",
    "\n",
    "# plot the actual data\n",
    "plt.plot(df['Actual Population'], color='tab:orange', linewidth=3, label='Actual Population')\n",
    "\n",
    "plt.xlabel(\"Year\")\n",
    "plt.ylabel(\"Population\")\n",
    "plt.title(\"Population over Time (Bootstrap method, assume dependence)\")\n",
    "plt.legend()\n",
    "plt.show()\n",
    "plt.close()"
   ]
  },
  {
   "cell_type": "markdown",
   "metadata": {},
   "source": [
    "### Compare simulations\n",
    "\n",
    "Just put all the graphs next to each other for easy comparison"
   ]
  },
  {
   "cell_type": "code",
   "execution_count": null,
   "metadata": {},
   "outputs": [],
   "source": [
    "fig, (ax1, ax2, ax3) = plt.subplots(1, 3, figsize=(15, 5), sharey=True)\n",
    "\n",
    "years_index = [i for i in range(num_years + 1)]\n",
    "\n",
    "# plot the normal distribution simulation\n",
    "\n",
    "for i in range(num_simulations):\n",
    "    if i == 1: # only put in the label once\n",
    "        ax1.plot(years_index, simulations.iloc[i, :], color='tab:gray', label='Simulations')\n",
    "    else:\n",
    "        ax1.plot(years_index, simulations.iloc[i, :], color='tab:gray')\n",
    "\n",
    "# plot the actual data\n",
    "ax1.plot(df['Actual Population'], color='tab:orange', linewidth=3, label='Actual Population')\n",
    "\n",
    "ax1.set_xlabel(\"Year\")\n",
    "ax1.set_ylabel(\"Population\")\n",
    "ax1.set_title(\"Using normal distribution\")\n",
    "ax1.legend()\n",
    "\n",
    "# plot the bootstrap simulation (independence)\n",
    "\n",
    "for i in range(num_simulations):\n",
    "    if i == 1: # only put in the label once\n",
    "        ax2.plot(years_index, bootstrap_sims.iloc[i, :], color='tab:gray', label='Simulations')\n",
    "    else:\n",
    "        ax2.plot(years_index, bootstrap_sims.iloc[i, :], color='tab:gray')\n",
    "\n",
    "# plot the actual data\n",
    "ax2.plot(df['Actual Population'], color='tab:orange', linewidth=3, label='Actual Population')\n",
    "\n",
    "ax2.set_xlabel(\"Year\")\n",
    "ax2.set_title(\"Bootstrap method, assume independence\")\n",
    "ax2.legend()\n",
    "\n",
    "# plot the bootstrap simulation (dependence)\n",
    "\n",
    "for i in range(num_simulations):\n",
    "    if i == 1: # only put in the label once\n",
    "        ax3.plot(years_index, bootstrap_sims_dep.iloc[i, :], color='tab:gray', label='Simulations')\n",
    "    else:\n",
    "        ax3.plot(years_index, bootstrap_sims_dep.iloc[i, :], color='tab:gray')\n",
    "\n",
    "# plot the actual data\n",
    "ax3.plot(df['Actual Population'], color='tab:orange', linewidth=3, label='Actual Population')\n",
    "\n",
    "ax3.set_xlabel(\"Year\")\n",
    "ax3.set_title(\"Bootstrap method, assume dependence\")\n",
    "ax3.legend()\n",
    "\n",
    "plt.suptitle(\"Population over Time\")\n",
    "plt.show()\n",
    "plt.close()\n",
    "\n"
   ]
  },
  {
   "cell_type": "markdown",
   "metadata": {},
   "source": [
    "## Part 4 - Is it Normal?\n",
    "\n",
    "Running a quantile comparison test to determine normalcy.  "
   ]
  },
  {
   "cell_type": "code",
   "execution_count": null,
   "metadata": {},
   "outputs": [],
   "source": [
    "#quantile comparison on population input (recruitment, likely driven by birth rate)\n",
    "\n",
    "#should show line of best fit if the data is shorn at the edges\n",
    "\n",
    "stats.probplot(df['Recruitment'].dropna(), dist = \"norm\", plot=pylab)\n",
    "plt.title('Recruitment Normalcy Test')\n",
    "plt.show()\n",
    "\n",
    "plt.hist(df['Recruitment'].dropna(), density=True, bins=30)\n",
    "x = np.linspace(-50, 250, 1000)\n",
    "y = stats.norm.pdf(x, loc=recruitment_mean, scale=recruitment_std)\n",
    "plt.plot(x, y)\n",
    "\n",
    "pylab.show()\n",
    "\n",
    "#quantile comparison on death rate (given as percent survival)\n",
    "\n",
    "stats.probplot(df['Survival Rate'].dropna(), dist = \"norm\", plot=pylab)\n",
    "plt.title('Survival Rate Normalcy Test')\n",
    "pylab.show()\n",
    "\n",
    "plt.hist(df['Survival Rate'].dropna(), density=True, bins=20)\n",
    "x = np.linspace(0.3, 1, 1000)\n",
    "y = stats.norm.pdf(x, loc=survival_mean, scale=survival_std)\n",
    "plt.plot(x, y)\n",
    "\n",
    "plt.show()"
   ]
  }
 ],
 "metadata": {
  "kernelspec": {
   "display_name": "math",
   "language": "python",
   "name": "python3"
  },
  "language_info": {
   "codemirror_mode": {
    "name": "ipython",
    "version": 3
   },
   "file_extension": ".py",
   "mimetype": "text/x-python",
   "name": "python",
   "nbconvert_exporter": "python",
   "pygments_lexer": "ipython3",
   "version": "3.11.5"
  }
 },
 "nbformat": 4,
 "nbformat_minor": 2
}
