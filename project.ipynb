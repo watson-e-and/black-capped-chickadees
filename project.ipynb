{
 "cells": [
  {
   "cell_type": "code",
   "execution_count": null,
   "metadata": {},
   "outputs": [],
   "source": [
    "import pandas as pd\n",
    "import numpy as np\n",
    "import matplotlib.pyplot as plt\n"
   ]
  },
  {
   "cell_type": "code",
   "execution_count": null,
   "metadata": {},
   "outputs": [],
   "source": [
    "# import the data and view it\n",
    "df = pd.read_csv('chart.csv')\n",
    "\n",
    "df"
   ]
  },
  {
   "cell_type": "markdown",
   "metadata": {},
   "source": [
    "## Mean and Std - incomplete data!\n",
    "\n",
    "What to do about "
   ]
  },
  {
   "cell_type": "code",
   "execution_count": null,
   "metadata": {},
   "outputs": [],
   "source": [
    "recruitment_mean = df['Recruitment'].mean(skipna=True)\n",
    "recruitment_std = df['Recruitment'].std(skipna=True)\n",
    "\n",
    "survival_mean = df['Survival Rate'].mean(skipna=True)\n",
    "survival_std = df['Survival Rate'].std(skipna=True)\n",
    "\n",
    "# show the mean and standard deviation of the recruitment and survival rate\n",
    "print(\"Recruitment Mean: \", recruitment_mean)\n",
    "print(\"Recruitment Standard Deviation: \", recruitment_std)\n",
    "print(\"Survival Rate Mean: \", survival_mean)\n",
    "print(\"Survival Rate Standard Deviation: \", survival_std)"
   ]
  },
  {
   "cell_type": "markdown",
   "metadata": {},
   "source": [
    "## Part 3 - Simulation\n",
    "\n",
    "Randomly sample from normal distribution for both recruitment and survival rates for 25 years. "
   ]
  },
  {
   "cell_type": "code",
   "execution_count": null,
   "metadata": {},
   "outputs": [],
   "source": [
    "# parameters for the simulation\n",
    "\n",
    "starting_population = 275\n",
    "num_simulations = 10\n",
    "num_years = 25"
   ]
  },
  {
   "cell_type": "code",
   "execution_count": null,
   "metadata": {},
   "outputs": [],
   "source": [
    "# create a table to store the simulations\n",
    "\n",
    "starting_populations = pd.Series(np.ones(num_simulations) * starting_population, name='Year 0')\n",
    "simulations = pd.DataFrame(starting_populations)\n",
    "\n",
    "# show the table\n",
    "simulations"
   ]
  },
  {
   "cell_type": "code",
   "execution_count": null,
   "metadata": {},
   "outputs": [],
   "source": [
    "# run the simulation\n",
    "\n",
    "# create a random number generator\n",
    "rng = np.random.default_rng(seed=3290751)\n",
    "\n",
    "for i in range(1, num_years + 1):\n",
    "    # calculate the recruitment\n",
    "    recruitment = rng.normal(recruitment_mean, recruitment_std, size=num_simulations)\n",
    "    \n",
    "    # calculate the survival rate\n",
    "    survival = rng.normal(survival_mean, survival_std, size=num_simulations)\n",
    "    \n",
    "    # calculate the new population\n",
    "    new_population = simulations[f\"Year {i - 1}\"] * survival + recruitment\n",
    "    \n",
    "    # add the new population to the table\n",
    "    simulations[f\"Year {i}\"] = new_population\n",
    "\n",
    "# round everything to 1 decimal place\n",
    "simulations = simulations.round(1)\n",
    "# show the table\n",
    "simulations"
   ]
  },
  {
   "cell_type": "code",
   "execution_count": null,
   "metadata": {},
   "outputs": [],
   "source": [
    "# plot the trials (row by row)\n",
    "\n",
    "years_index = [i for i in range(num_years + 1)]\n",
    "for i in range(num_simulations):\n",
    "    if i == 1: # only put in the label once\n",
    "        plt.plot(years_index, simulations.iloc[i, :], color='tab:gray', label='Simulations')\n",
    "    else:\n",
    "        plt.plot(years_index, simulations.iloc[i, :], color='tab:gray')\n",
    "\n",
    "# plot the actual data\n",
    "plt.plot(df['Actual Population'], color='tab:orange', linewidth=3, label='Actual Population')\n",
    "\n",
    "plt.xlabel(\"Year\")\n",
    "plt.ylabel(\"Population\")\n",
    "plt.title(\"Population over Time\")\n",
    "plt.legend()\n",
    "plt.show()\n",
    "plt.close()"
   ]
  }
 ],
 "metadata": {
  "kernelspec": {
   "display_name": "math",
   "language": "python",
   "name": "python3"
  },
  "language_info": {
   "codemirror_mode": {
    "name": "ipython",
    "version": 3
   },
   "file_extension": ".py",
   "mimetype": "text/x-python",
   "name": "python",
   "nbconvert_exporter": "python",
   "pygments_lexer": "ipython3",
   "version": "3.11.5"
  }
 },
 "nbformat": 4,
 "nbformat_minor": 2
}
